{
 "cells": [
  {
   "cell_type": "markdown",
   "metadata": {},
   "source": [
    "# Method for a single sentence"
   ]
  },
  {
   "cell_type": "code",
   "execution_count": 2,
   "metadata": {},
   "outputs": [
    {
     "name": "stderr",
     "output_type": "stream",
     "text": [
      "Processing words:   1%|          | 1/95 [00:10<16:43, 10.68s/it]"
     ]
    },
    {
     "name": "stdout",
     "output_type": "stream",
     "text": [
      "Warning: 'A' is neither a number nor in vocabulary. Skipping.\n"
     ]
    },
    {
     "name": "stderr",
     "output_type": "stream",
     "text": [
      "Processing words:   3%|▎         | 3/95 [00:16<07:22,  4.81s/it]"
     ]
    },
    {
     "name": "stdout",
     "output_type": "stream",
     "text": [
      "Warning: 'to' is neither a number nor in vocabulary. Skipping.\n"
     ]
    },
    {
     "name": "stderr",
     "output_type": "stream",
     "text": [
      "Processing words:  13%|█▎        | 12/95 [01:04<08:03,  5.82s/it]"
     ]
    },
    {
     "name": "stdout",
     "output_type": "stream",
     "text": [
      "Warning: 'a' is neither a number nor in vocabulary. Skipping.\n"
     ]
    },
    {
     "name": "stderr",
     "output_type": "stream",
     "text": [
      "Processing words:  20%|██        | 19/95 [01:42<07:53,  6.23s/it]"
     ]
    },
    {
     "name": "stdout",
     "output_type": "stream",
     "text": [
      "Warning: '.' is neither a number nor in vocabulary. Skipping.\n"
     ]
    },
    {
     "name": "stderr",
     "output_type": "stream",
     "text": [
      "Processing words:  25%|██▌       | 24/95 [02:04<06:05,  5.15s/it]"
     ]
    },
    {
     "name": "stdout",
     "output_type": "stream",
     "text": [
      "Warning: 'to' is neither a number nor in vocabulary. Skipping.\n"
     ]
    },
    {
     "name": "stderr",
     "output_type": "stream",
     "text": [
      "Processing words:  27%|██▋       | 26/95 [02:10<04:43,  4.11s/it]"
     ]
    },
    {
     "name": "stdout",
     "output_type": "stream",
     "text": [
      "Warning: 'a' is neither a number nor in vocabulary. Skipping.\n"
     ]
    },
    {
     "name": "stderr",
     "output_type": "stream",
     "text": [
      "Processing words:  35%|███▍      | 33/95 [02:43<05:11,  5.03s/it]"
     ]
    },
    {
     "name": "stdout",
     "output_type": "stream",
     "text": [
      "Warning: ',' is neither a number nor in vocabulary. Skipping.\n"
     ]
    },
    {
     "name": "stderr",
     "output_type": "stream",
     "text": [
      "Processing words:  41%|████      | 39/95 [03:15<05:35,  6.00s/it]"
     ]
    },
    {
     "name": "stdout",
     "output_type": "stream",
     "text": [
      "Warning: 'of' is neither a number nor in vocabulary. Skipping.\n"
     ]
    },
    {
     "name": "stderr",
     "output_type": "stream",
     "text": [
      "Processing words:  44%|████▍     | 42/95 [03:26<04:13,  4.79s/it]"
     ]
    },
    {
     "name": "stdout",
     "output_type": "stream",
     "text": [
      "Warning: 'and' is neither a number nor in vocabulary. Skipping.\n"
     ]
    },
    {
     "name": "stderr",
     "output_type": "stream",
     "text": [
      "Processing words:  51%|█████     | 48/95 [03:58<04:38,  5.93s/it]"
     ]
    },
    {
     "name": "stdout",
     "output_type": "stream",
     "text": [
      "Warning: 'of' is neither a number nor in vocabulary. Skipping.\n"
     ]
    },
    {
     "name": "stderr",
     "output_type": "stream",
     "text": [
      "Processing words:  57%|█████▋    | 54/95 [04:26<03:33,  5.20s/it]"
     ]
    },
    {
     "name": "stdout",
     "output_type": "stream",
     "text": [
      "Warning: '.' is neither a number nor in vocabulary. Skipping.\n"
     ]
    },
    {
     "name": "stderr",
     "output_type": "stream",
     "text": [
      "Processing words:  59%|█████▉    | 56/95 [04:31<02:40,  4.12s/it]"
     ]
    },
    {
     "name": "stdout",
     "output_type": "stream",
     "text": [
      "Warning: ',' is neither a number nor in vocabulary. Skipping.\n"
     ]
    },
    {
     "name": "stderr",
     "output_type": "stream",
     "text": [
      "Processing words:  65%|██████▌   | 62/95 [04:59<02:40,  4.85s/it]"
     ]
    },
    {
     "name": "stdout",
     "output_type": "stream",
     "text": [
      "Warning: 'to' is neither a number nor in vocabulary. Skipping.\n"
     ]
    },
    {
     "name": "stderr",
     "output_type": "stream",
     "text": [
      "Processing words:  71%|███████   | 67/95 [05:20<02:15,  4.83s/it]"
     ]
    },
    {
     "name": "stdout",
     "output_type": "stream",
     "text": [
      "Warning: ''' is neither a number nor in vocabulary. Skipping.\n"
     ]
    },
    {
     "name": "stderr",
     "output_type": "stream",
     "text": [
      "Processing words:  75%|███████▍  | 71/95 [05:37<01:50,  4.60s/it]"
     ]
    },
    {
     "name": "stdout",
     "output_type": "stream",
     "text": [
      "Warning: ',' is neither a number nor in vocabulary. Skipping.\n"
     ]
    },
    {
     "name": "stderr",
     "output_type": "stream",
     "text": [
      "Processing words:  81%|████████  | 77/95 [06:04<01:29,  4.97s/it]"
     ]
    },
    {
     "name": "stdout",
     "output_type": "stream",
     "text": [
      "Warning: '.' is neither a number nor in vocabulary. Skipping.\n"
     ]
    },
    {
     "name": "stderr",
     "output_type": "stream",
     "text": [
      "Processing words:  89%|████████▉ | 85/95 [06:43<00:52,  5.27s/it]"
     ]
    },
    {
     "name": "stdout",
     "output_type": "stream",
     "text": [
      "Warning: 'and' is neither a number nor in vocabulary. Skipping.\n"
     ]
    },
    {
     "name": "stderr",
     "output_type": "stream",
     "text": [
      "Processing words: 100%|██████████| 95/95 [07:27<00:00,  4.71s/it]"
     ]
    },
    {
     "name": "stdout",
     "output_type": "stream",
     "text": [
      "Warning: '.' is neither a number nor in vocabulary. Skipping.\n"
     ]
    },
    {
     "name": "stderr",
     "output_type": "stream",
     "text": [
      "\n"
     ]
    }
   ],
   "source": [
    "import numpy as np\n",
    "from gensim.models import KeyedVectors\n",
    "from scipy.spatial.distance import jensenshannon\n",
    "from tqdm import tqdm\n",
    "import re\n",
    "\n",
    "def word_perturbation_analysis(sentence, model, num_neighbors=10, num_bootstraps=500):\n",
    "    def get_embedding(text):\n",
    "        return model[text] if text in model else np.zeros(model.vector_size)\n",
    "    \n",
    "    def calculate_jsd_and_pvalue(arr1, arr2, num_bootstraps=1000, bins=30):\n",
    "        def calculate_jsd(x, y):\n",
    "            hist1, _ = np.histogram(x, bins=bins, density=True)\n",
    "            hist2, _ = np.histogram(y, bins=bins, density=True)\n",
    "            return jensenshannon(hist1, hist2)\n",
    "        \n",
    "        observed_jsd = calculate_jsd(arr1, arr2)\n",
    "        \n",
    "        combined = np.concatenate([arr1, arr2])\n",
    "        n1, n2 = len(arr1), len(arr2)\n",
    "        \n",
    "        bootstrap_jsds = []\n",
    "        for _ in range(num_bootstraps):\n",
    "            resampled = np.random.choice(combined, size=n1+n2, replace=True)\n",
    "            bootstrap_arr1, bootstrap_arr2 = resampled[:n1], resampled[n1:]\n",
    "            bootstrap_jsd = calculate_jsd(bootstrap_arr1, bootstrap_arr2)\n",
    "            bootstrap_jsds.append(bootstrap_jsd)\n",
    "        \n",
    "        p_value = np.mean(np.array(bootstrap_jsds) >= observed_jsd)\n",
    "        \n",
    "        return observed_jsd, p_value\n",
    "    \n",
    "    def generate_numerical_neighbors(value, num_neighbors=20):\n",
    "        try:\n",
    "            num_value = float(value)\n",
    "            lower_bound = num_value * 0.5\n",
    "            upper_bound = num_value * 1.5\n",
    "            lower_neighbors = np.linspace(lower_bound, num_value, num=10, endpoint=False)\n",
    "            upper_neighbors = np.linspace(num_value, upper_bound, num=11)[1:]  # Exclude the original value\n",
    "            return list(np.round(np.concatenate([lower_neighbors, upper_neighbors]), 4))\n",
    "        except ValueError:\n",
    "            return None  # Return None if the value can't be converted to float\n",
    "    \n",
    "    # Tokenize the sentence\n",
    "    words = re.findall(r'\\b\\w+\\b|[^\\w\\s]', sentence)\n",
    "    \n",
    "    # Compute baseline embeddings\n",
    "    baseline_embeddings = np.array([get_embedding(w) for w in words])\n",
    "    \n",
    "    results = {}\n",
    "    \n",
    "    for i, word in enumerate(tqdm(words, desc=\"Processing words\")):\n",
    "        numerical_neighbors = generate_numerical_neighbors(word)\n",
    "        \n",
    "        if numerical_neighbors:\n",
    "            neighbors = [(str(n), 0) for n in numerical_neighbors]  # Format to match model.most_similar() output\n",
    "        elif word.lower() in model.key_to_index:\n",
    "            neighbors = model.most_similar(word.lower(), topn=num_neighbors)\n",
    "        else:\n",
    "            print(f\"Warning: '{word}' is neither a number nor in vocabulary. Skipping.\")\n",
    "            continue\n",
    "        \n",
    "        distances = []\n",
    "        p_values = []\n",
    "        \n",
    "        for neighbor, _ in tqdm(neighbors, desc=f\"Analyzing neighbors of '{word}'\", leave=False):\n",
    "            # Replace the word with its neighbor in the sentence\n",
    "            new_words = words.copy()\n",
    "            new_words[i] = neighbor\n",
    "            \n",
    "            # Get embeddings for modified sentence\n",
    "            modified_embeddings = np.array([get_embedding(w) for w in new_words])\n",
    "            \n",
    "            # Calculate JSD and p-value\n",
    "            jsd, p_value = calculate_jsd_and_pvalue(baseline_embeddings.flatten(), modified_embeddings.flatten(), num_bootstraps)\n",
    "            \n",
    "            distances.append(jsd)\n",
    "            p_values.append(p_value)\n",
    "        \n",
    "        results[word] = (np.mean(distances), np.mean(p_values))\n",
    "    \n",
    "    return results\n",
    "\n",
    "model = KeyedVectors.load_word2vec_format('GoogleNews-vectors-negative300.bin', binary=True)\n",
    "\n",
    "# Apply the function to the given text\n",
    "text_legal = \"\"\"\n",
    "Company A agrees to pay Company B $10 million for developing a revolutionary AI software within 12 months. If Company B fails to deliver a fully functional product by the deadline, they must refund 50% of the payment and provide an additional 3 months of development at no extra cost. However, if the delay is due to circumstances beyond Company B's reasonable control, these penalties shall not apply. This agreement is governed by California law and any disputes shall be resolved through binding arbitration.\n",
    "\"\"\"\n",
    "\n",
    "# Uncomment the following line when you have a model loaded\n",
    "results = word_perturbation_analysis(text_legal, model)\n",
    "\n",
    "# print(results)"
   ]
  },
  {
   "cell_type": "code",
   "execution_count": 3,
   "metadata": {},
   "outputs": [
    {
     "data": {
      "text/plain": [
       "{'Company': (0.0023326451924539963, 1.0),\n",
       " 'agrees': (0.0023018988439325937, 1.0),\n",
       " 'pay': (0.027730039654968112, 0.937),\n",
       " 'B': (0.002297112607344631, 1.0),\n",
       " '$': (0.002946541090333569, 1.0),\n",
       " '10': (0.0, 1.0),\n",
       " 'million': (0.0019037648851699795, 1.0),\n",
       " 'for': (0.00229067763214912, 1.0),\n",
       " 'developing': (0.0021939689258674267, 1.0),\n",
       " 'revolutionary': (0.002486883853655971, 1.0),\n",
       " 'AI': (0.002545750593027174, 1.0),\n",
       " 'software': (0.002280553645519246, 1.0),\n",
       " 'within': (0.0018739667886285417, 1.0),\n",
       " '12': (0.0, 1.0),\n",
       " 'months': (0.0014203138060697698, 1.0),\n",
       " 'If': (0.0023753571959398596, 1.0),\n",
       " 'fails': (0.0021909781915360692, 1.0),\n",
       " 'deliver': (0.0022303960956712404, 1.0),\n",
       " 'fully': (0.0019511600597358308, 1.0),\n",
       " 'functional': (0.00261505385548873, 1.0),\n",
       " 'product': (0.028300898425595616, 0.93),\n",
       " 'by': (0.026966281707135477, 0.9376),\n",
       " 'the': (0.0017831414527882817, 1.0),\n",
       " 'deadline': (0.08552254198321639, 0.7696),\n",
       " 'they': (0.0013949756399427454, 1.0),\n",
       " 'must': (0.0016324051317312964, 1.0),\n",
       " 'refund': (0.06632390771836977, 0.8670000000000002),\n",
       " '50': (0.0, 1.0),\n",
       " '%': (0.0031275703322186524, 1.0),\n",
       " 'payment': (0.005960361823940405, 0.9708),\n",
       " 'provide': (0.02689645170897107, 0.9339999999999999),\n",
       " 'an': (0.0028673690935653714, 1.0),\n",
       " 'additional': (0.001778748493806349, 1.0),\n",
       " '3': (0.006926003612838837, 1.0),\n",
       " 'development': (0.0017852901072298178, 1.0),\n",
       " 'at': (0.0017703190094454184, 1.0),\n",
       " 'no': (0.0016501907202957158, 1.0),\n",
       " 'extra': (0.002137647369215697, 1.0),\n",
       " 'cost': (0.0316220194827855, 0.8752000000000001),\n",
       " 'However': (0.0020987301709132836, 1.0),\n",
       " 'if': (0.0013256121348299438, 1.0),\n",
       " 'delay': (0.038558082302332035, 0.9328),\n",
       " 'is': (0.027614921206593257, 0.9343999999999999),\n",
       " 'due': (0.003697869497861166, 0.9832000000000001),\n",
       " 'circumstances': (0.0070301144778066125, 0.9642),\n",
       " 'beyond': (0.0016691583002063138, 1.0),\n",
       " 's': (0.001979691798069873, 1.0),\n",
       " 'reasonable': (0.001706530400177015, 1.0),\n",
       " 'control': (0.0040134283601478285, 0.986),\n",
       " 'these': (0.0014694389594782178, 1.0),\n",
       " 'penalties': (0.11460699905432788, 0.6482),\n",
       " 'shall': (0.0029033874904622883, 1.0),\n",
       " 'not': (0.0016880208229743884, 1.0),\n",
       " 'apply': (0.02768609785479314, 0.9339999999999999),\n",
       " 'This': (0.0022928439027493424, 1.0),\n",
       " 'agreement': (0.031368644789325995, 0.9124000000000001),\n",
       " 'governed': (0.0026001337710382932, 1.0),\n",
       " 'California': (0.06353090436046896, 0.7894),\n",
       " 'law': (0.04026142168621814, 0.9007999999999999),\n",
       " 'any': (0.0017119890134422115, 1.0),\n",
       " 'disputes': (0.2538716278198213, 0.2822),\n",
       " 'be': (0.0013147372379478258, 1.0),\n",
       " 'resolved': (0.0368039160704839, 0.9018),\n",
       " 'through': (0.0016876194345667444, 1.0),\n",
       " 'binding': (0.002790033631817651, 1.0),\n",
       " 'arbitration': (0.12138358201962636, 0.7163999999999999)}"
      ]
     },
     "execution_count": 3,
     "metadata": {},
     "output_type": "execute_result"
    }
   ],
   "source": [
    "results"
   ]
  },
  {
   "cell_type": "code",
   "execution_count": 4,
   "metadata": {},
   "outputs": [
    {
     "name": "stdout",
     "output_type": "stream",
     "text": [
      "{'Company': (0.0023326451924539963, 1.0), 'agrees': (0.0023018988439325937, 1.0), 'pay': (0.027730039654968112, 0.937), 'B': (0.002297112607344631, 1.0), '$': (0.002946541090333569, 1.0), '10': (0.0, 1.0), 'million': (0.0019037648851699795, 1.0), 'for': (0.00229067763214912, 1.0), 'developing': (0.0021939689258674267, 1.0), 'revolutionary': (0.002486883853655971, 1.0), 'AI': (0.002545750593027174, 1.0), 'software': (0.002280553645519246, 1.0), 'within': (0.0018739667886285417, 1.0), '12': (0.0, 1.0), 'months': (0.0014203138060697698, 1.0), 'If': (0.0023753571959398596, 1.0), 'fails': (0.0021909781915360692, 1.0), 'deliver': (0.0022303960956712404, 1.0), 'fully': (0.0019511600597358308, 1.0), 'functional': (0.00261505385548873, 1.0), 'product': (0.028300898425595616, 0.93), 'by': (0.026966281707135477, 0.9376), 'the': (0.0017831414527882817, 1.0), 'deadline': (0.08552254198321639, 0.7696), 'they': (0.0013949756399427454, 1.0), 'must': (0.0016324051317312964, 1.0), 'refund': (0.06632390771836977, 0.8670000000000002), '50': (0.0, 1.0), '%': (0.0031275703322186524, 1.0), 'payment': (0.005960361823940405, 0.9708), 'provide': (0.02689645170897107, 0.9339999999999999), 'an': (0.0028673690935653714, 1.0), 'additional': (0.001778748493806349, 1.0), '3': (0.006926003612838837, 1.0), 'development': (0.0017852901072298178, 1.0), 'at': (0.0017703190094454184, 1.0), 'no': (0.0016501907202957158, 1.0), 'extra': (0.002137647369215697, 1.0), 'cost': (0.0316220194827855, 0.8752000000000001), 'However': (0.0020987301709132836, 1.0), 'if': (0.0013256121348299438, 1.0), 'delay': (0.038558082302332035, 0.9328), 'is': (0.027614921206593257, 0.9343999999999999), 'due': (0.003697869497861166, 0.9832000000000001), 'circumstances': (0.0070301144778066125, 0.9642), 'beyond': (0.0016691583002063138, 1.0), 's': (0.001979691798069873, 1.0), 'reasonable': (0.001706530400177015, 1.0), 'control': (0.0040134283601478285, 0.986), 'these': (0.0014694389594782178, 1.0), 'penalties': (0.11460699905432788, 0.6482), 'shall': (0.0029033874904622883, 1.0), 'not': (0.0016880208229743884, 1.0), 'apply': (0.02768609785479314, 0.9339999999999999), 'This': (0.0022928439027493424, 1.0), 'agreement': (0.031368644789325995, 0.9124000000000001), 'governed': (0.0026001337710382932, 1.0), 'California': (0.06353090436046896, 0.7894), 'law': (0.04026142168621814, 0.9007999999999999), 'any': (0.0017119890134422115, 1.0), 'disputes': (0.2538716278198213, 0.2822), 'be': (0.0013147372379478258, 1.0), 'resolved': (0.0368039160704839, 0.9018), 'through': (0.0016876194345667444, 1.0), 'binding': (0.002790033631817651, 1.0), 'arbitration': (0.12138358201962636, 0.7163999999999999)}\n"
     ]
    }
   ],
   "source": [
    "print(results)"
   ]
  },
  {
   "cell_type": "code",
   "execution_count": 5,
   "metadata": {},
   "outputs": [],
   "source": [
    "text_legal = \"\"\"\n",
    "\n",
    "Company A agrees to pay Company B $10 million for developing a revolutionary AI software within 12 months. If Company B fails to deliver a fully functional product by the deadline, they must refund 50% of the payment and provide an additional 3 months of development at no extra cost. However, if the delay is due to circumstances beyond Company B's reasonable control, these penalties shall not apply. This agreement is governed by California law and any disputes shall be resolved through binding arbitration.\n",
    "\"\"\""
   ]
  },
  {
   "cell_type": "code",
   "execution_count": 6,
   "metadata": {},
   "outputs": [
    {
     "name": "stdout",
     "output_type": "stream",
     "text": [
      "\n",
      "\n",
      "Company A agrees to \\colorbox{red!10}{pay} Company B \\colorbox{red!1}{\\$}10 million for developing a revolutionary \\colorbox{red!1}{AI} software within 12 months. If Company B fails to deliver a fully \\colorbox{red!1}{functional} \\colorbox{red!11}{product} \\colorbox{red!10}{by} the \\colorbox{red!33}{deadline}, they must \\colorbox{red!26}{refund} 50\\colorbox{red!1}{\\%} of the \\colorbox{red!2}{payment} and \\colorbox{red!10}{provide} \\colorbox{red!1}{an} additional \\colorbox{red!2}{3} months of development at no extra \\colorbox{red!12}{cost}. However, if the \\colorbox{red!15}{delay} \\colorbox{red!10}{is} \\colorbox{red!1}{due} to \\colorbox{red!2}{circumstances} beyond Company B's reasonable \\colorbox{red!1}{control}, these \\colorbox{red!45}{penalties} \\colorbox{red!1}{shall} not \\colorbox{red!10}{apply}. This \\colorbox{red!12}{agreement} \\colorbox{red!10}{is} \\colorbox{red!1}{governed} \\colorbox{red!10}{by} \\colorbox{red!25}{California} \\colorbox{red!15}{law} and any \\colorbox{red!100}{disputes} \\colorbox{red!1}{shall} be \\colorbox{red!14}{resolved} through \\colorbox{red!1}{binding} \\colorbox{red!47}{arbitration}.\n",
      "\n"
     ]
    }
   ],
   "source": [
    "# Proceed to generate LaTeX code using the results\n",
    "def generate_latex_highlighted_text(sentence, results):\n",
    "    # Function to escape special LaTeX characters\n",
    "    def escape_latex(s):\n",
    "        special_chars = {\n",
    "            '\\\\': r'\\textbackslash{}',\n",
    "            '{': r'\\{',\n",
    "            '}': r'\\}',\n",
    "            '$': r'\\$',\n",
    "            '&': r'\\&',\n",
    "            '#': r'\\#',\n",
    "            '_': r'\\_',\n",
    "            '%': r'\\%',\n",
    "            '^': r'\\^{}',\n",
    "            '~': r'\\~{}',\n",
    "        }\n",
    "        return ''.join(special_chars.get(c, c) for c in s)\n",
    "    \n",
    "    # Extract scores and find min and max scores\n",
    "    scores = [value[0] for value in results.values()]\n",
    "    min_score = min(scores)\n",
    "    max_score = max(scores)\n",
    "    \n",
    "    # Linear scaling function\n",
    "    def linear_scale(score, min_score, max_score):\n",
    "        if max_score > min_score:\n",
    "            return ((score - min_score) / (max_score - min_score)) * 100\n",
    "        else:\n",
    "            return 0\n",
    "    \n",
    "    # Tokenize the sentence\n",
    "    tokens = re.findall(r'\\s+|\\w+|[^\\w\\s]', sentence)\n",
    "    \n",
    "    # Prepare the LaTeX output\n",
    "    latex_output = ''\n",
    "    for token in tokens:\n",
    "        if token.strip():\n",
    "            # Remove leading/trailing punctuation for matching\n",
    "            word_clean = token.strip()\n",
    "            word_clean_lower = re.sub(r'^\\W+|\\W+$', '', word_clean).lower()\n",
    "    \n",
    "            # Get the score for the word, defaulting to min_score if not found\n",
    "            score = results.get(word_clean, results.get(word_clean_lower, (min_score, )))[0]\n",
    "    \n",
    "            # Apply linear scaling\n",
    "            percentage = int(linear_scale(score, min_score, max_score))\n",
    "    \n",
    "            # Escape LaTeX special characters\n",
    "            escaped_token = escape_latex(token)\n",
    "    \n",
    "            # Generate LaTeX code\n",
    "            if percentage == 0:\n",
    "                latex_output += escaped_token\n",
    "            else:\n",
    "                latex_output += r'\\colorbox{{red!{}}}{{{}}}'.format(percentage, escaped_token)\n",
    "        else:\n",
    "            # Preserve spaces\n",
    "            latex_output += token\n",
    "    \n",
    "    return latex_output\n",
    "\n",
    "# Generate LaTeX code (uncomment when 'results' is available)\n",
    "latex_code = generate_latex_highlighted_text(text_legal, results)\n",
    "print(latex_code)"
   ]
  },
  {
   "cell_type": "code",
   "execution_count": 7,
   "metadata": {},
   "outputs": [
    {
     "name": "stdout",
     "output_type": "stream",
     "text": [
      "\n",
      "\n",
      "\\textcolor[rgb]{0.991,0.000,0.000}{Company} \\textcolor[rgb]{1.000,0.000,0.000}{A} \\textcolor[rgb]{0.991,0.000,0.000}{agrees} \\textcolor[rgb]{1.000,0.000,0.000}{to} \\textcolor[rgb]{0.891,0.000,0.000}{pay} \\textcolor[rgb]{0.991,0.000,0.000}{Company} \\textcolor[rgb]{0.991,0.000,0.000}{B} \\textcolor[rgb]{0.988,0.000,0.000}{$}\\textcolor[rgb]{1.000,0.000,0.000}{10} \\textcolor[rgb]{0.993,0.000,0.000}{million} \\textcolor[rgb]{0.991,0.000,0.000}{for} \\textcolor[rgb]{0.991,0.000,0.000}{developing} \\textcolor[rgb]{1.000,0.000,0.000}{a} \\textcolor[rgb]{0.990,0.000,0.000}{revolutionary} \\textcolor[rgb]{0.990,0.000,0.000}{AI} \\textcolor[rgb]{0.991,0.000,0.000}{software} \\textcolor[rgb]{0.993,0.000,0.000}{within} \\textcolor[rgb]{1.000,0.000,0.000}{12} \\textcolor[rgb]{0.994,0.000,0.000}{months}\\textcolor[rgb]{1.000,0.000,0.000}{.} \\textcolor[rgb]{0.995,0.000,0.000}{If} \\textcolor[rgb]{0.991,0.000,0.000}{Company} \\textcolor[rgb]{0.991,0.000,0.000}{B} \\textcolor[rgb]{0.991,0.000,0.000}{fails} \\textcolor[rgb]{1.000,0.000,0.000}{to} \\textcolor[rgb]{0.991,0.000,0.000}{deliver} \\textcolor[rgb]{1.000,0.000,0.000}{a} \\textcolor[rgb]{0.992,0.000,0.000}{fully} \\textcolor[rgb]{0.990,0.000,0.000}{functional} \\textcolor[rgb]{0.889,0.000,0.000}{product} \\textcolor[rgb]{0.894,0.000,0.000}{by} \\textcolor[rgb]{0.993,0.000,0.000}{the} \\textcolor[rgb]{0.663,0.000,0.000}{deadline}\\textcolor[rgb]{1.000,0.000,0.000}{,} \\textcolor[rgb]{0.995,0.000,0.000}{they} \\textcolor[rgb]{0.994,0.000,0.000}{must} \\textcolor[rgb]{0.739,0.000,0.000}{refund} \\textcolor[rgb]{1.000,0.000,0.000}{50}\\textcolor[rgb]{0.988,0.000,0.000}{%} \\textcolor[rgb]{1.000,0.000,0.000}{of} \\textcolor[rgb]{0.993,0.000,0.000}{the} \\textcolor[rgb]{0.977,0.000,0.000}{payment} \\textcolor[rgb]{1.000,0.000,0.000}{and} \\textcolor[rgb]{0.894,0.000,0.000}{provide} \\textcolor[rgb]{0.989,0.000,0.000}{an} \\textcolor[rgb]{0.993,0.000,0.000}{additional} \\textcolor[rgb]{0.973,0.000,0.000}{3} \\textcolor[rgb]{0.994,0.000,0.000}{months} \\textcolor[rgb]{1.000,0.000,0.000}{of} \\textcolor[rgb]{0.993,0.000,0.000}{development} \\textcolor[rgb]{0.993,0.000,0.000}{at} \\textcolor[rgb]{0.993,0.000,0.000}{no} \\textcolor[rgb]{0.992,0.000,0.000}{extra} \\textcolor[rgb]{0.875,0.000,0.000}{cost}\\textcolor[rgb]{1.000,0.000,0.000}{.} \\textcolor[rgb]{0.992,0.000,0.000}{However}\\textcolor[rgb]{1.000,0.000,0.000}{,} \\textcolor[rgb]{0.995,0.000,0.000}{if} \\textcolor[rgb]{0.993,0.000,0.000}{the} \\textcolor[rgb]{0.848,0.000,0.000}{delay} \\textcolor[rgb]{0.891,0.000,0.000}{is} \\textcolor[rgb]{0.985,0.000,0.000}{due} \\textcolor[rgb]{1.000,0.000,0.000}{to} \\textcolor[rgb]{0.972,0.000,0.000}{circumstances} \\textcolor[rgb]{0.993,0.000,0.000}{beyond} \\textcolor[rgb]{0.991,0.000,0.000}{Company} \\textcolor[rgb]{0.991,0.000,0.000}{B}\\textcolor[rgb]{1.000,0.000,0.000}{'}\\textcolor[rgb]{0.992,0.000,0.000}{s} \\textcolor[rgb]{0.993,0.000,0.000}{reasonable} \\textcolor[rgb]{0.984,0.000,0.000}{control}\\textcolor[rgb]{1.000,0.000,0.000}{,} \\textcolor[rgb]{0.994,0.000,0.000}{these} \\textcolor[rgb]{0.549,0.000,0.000}{penalties} \\textcolor[rgb]{0.989,0.000,0.000}{shall} \\textcolor[rgb]{0.993,0.000,0.000}{not} \\textcolor[rgb]{0.891,0.000,0.000}{apply}\\textcolor[rgb]{1.000,0.000,0.000}{.} \\textcolor[rgb]{0.991,0.000,0.000}{This} \\textcolor[rgb]{0.876,0.000,0.000}{agreement} \\textcolor[rgb]{0.891,0.000,0.000}{is} \\textcolor[rgb]{0.990,0.000,0.000}{governed} \\textcolor[rgb]{0.894,0.000,0.000}{by} \\textcolor[rgb]{0.750,0.000,0.000}{California} \\textcolor[rgb]{0.841,0.000,0.000}{law} \\textcolor[rgb]{1.000,0.000,0.000}{and} \\textcolor[rgb]{0.993,0.000,0.000}{any} \\textcolor[rgb]{0.000,0.000,0.000}{disputes} \\textcolor[rgb]{0.989,0.000,0.000}{shall} \\textcolor[rgb]{0.995,0.000,0.000}{be} \\textcolor[rgb]{0.855,0.000,0.000}{resolved} \\textcolor[rgb]{0.993,0.000,0.000}{through} \\textcolor[rgb]{0.989,0.000,0.000}{binding} \\textcolor[rgb]{0.522,0.000,0.000}{arbitration}\\textcolor[rgb]{1.000,0.000,0.000}{.}\n",
      "\n"
     ]
    }
   ],
   "source": [
    "import re\n",
    "from colorsys import hsv_to_rgb\n",
    "\n",
    "def score_to_color(score, min_score, max_score):\n",
    "    if max_score == min_score:\n",
    "        normalized_score = 1\n",
    "    else:\n",
    "        normalized_score = (score - min_score) / (max_score - min_score)\n",
    "    hue = 0  # Red hue\n",
    "    saturation = 1\n",
    "    value = 1 - normalized_score\n",
    "    r, g, b = hsv_to_rgb(hue, saturation, value)\n",
    "    return f\"{r:.3f},{g:.3f},{b:.3f}\"\n",
    "\n",
    "def generate_latex_highlighted_text(text, results):\n",
    "    # Split text into words and punctuation\n",
    "    tokens = re.findall(r'\\w+|[^\\w\\s]|\\s+', text)\n",
    "    latex_tokens = []\n",
    "    \n",
    "    scores_dict = {k.lower(): v[0] for k, v in results.items()}\n",
    "    min_score = min(scores_dict.values())\n",
    "    max_score = max(scores_dict.values())\n",
    "    \n",
    "    for token in tokens:\n",
    "        if token.strip():\n",
    "            score = scores_dict.get(token.lower(), min_score)\n",
    "            color = score_to_color(score, min_score, max_score)\n",
    "            latex_tokens.append(f\"\\\\textcolor[rgb]{{{color}}}{{{token}}}\")\n",
    "        else:\n",
    "            latex_tokens.append(token)\n",
    "    \n",
    "    return ''.join(latex_tokens)\n",
    "\n",
    "\n",
    "highlighted_text = generate_latex_highlighted_text(text_legal, results)\n",
    "print(highlighted_text)"
   ]
  },
  {
   "cell_type": "code",
   "execution_count": 8,
   "metadata": {},
   "outputs": [
    {
     "name": "stdout",
     "output_type": "stream",
     "text": [
      "\\colorbox{red!2}{Company} A \\colorbox{red!2}{agrees} to \\colorbox{red!12}{pay} \\colorbox{red!2}{Company} \\colorbox{red!2}{B} \\colorbox{red!2}{\\$} \\colorbox{red!1}{10} \\colorbox{red!2}{million} \\colorbox{red!2}{for} \\colorbox{red!2}{developing} a \\colorbox{red!2}{revolutionary} \\colorbox{red!2}{AI} \\colorbox{red!2}{software} \\colorbox{red!2}{within} \\colorbox{red!1}{12} \\colorbox{red!2}{months} . \\colorbox{red!2}{If} \\colorbox{red!2}{Company} \\colorbox{red!2}{B} \\colorbox{red!2}{fails} to \\colorbox{red!2}{deliver} a \\colorbox{red!2}{fully} \\colorbox{red!2}{functional} \\colorbox{red!12}{product} \\colorbox{red!12}{by} \\colorbox{red!2}{the} \\colorbox{red!34}{deadline} , \\colorbox{red!2}{they} \\colorbox{red!2}{must} \\colorbox{red!27}{refund} \\colorbox{red!1}{50} \\colorbox{red!2}{\\%} of \\colorbox{red!2}{the} \\colorbox{red!3}{payment} and \\colorbox{red!11}{provide} \\colorbox{red!2}{an} \\colorbox{red!2}{additional} \\colorbox{red!4}{3} \\colorbox{red!2}{months} of \\colorbox{red!2}{development} \\colorbox{red!2}{at} \\colorbox{red!2}{no} \\colorbox{red!2}{extra} \\colorbox{red!13}{cost} . \\colorbox{red!2}{However} , \\colorbox{red!2}{if} \\colorbox{red!2}{the} \\colorbox{red!16}{delay} \\colorbox{red!12}{is} \\colorbox{red!2}{due} to \\colorbox{red!4}{circumstances} \\colorbox{red!2}{beyond} \\colorbox{red!2}{Company} \\colorbox{red!2}{B} \\' \\colorbox{red!2}{s} \\colorbox{red!2}{reasonable} \\colorbox{red!3}{control} , \\colorbox{red!2}{these} \\colorbox{red!46}{penalties} \\colorbox{red!2}{shall} \\colorbox{red!2}{not} \\colorbox{red!12}{apply} . \\colorbox{red!2}{This} \\colorbox{red!13}{agreement} \\colorbox{red!12}{is} \\colorbox{red!2}{governed} \\colorbox{red!12}{by} \\colorbox{red!26}{California} \\colorbox{red!17}{law} and \\colorbox{red!2}{any} \\colorbox{red!100}{disputes} \\colorbox{red!2}{shall} \\colorbox{red!2}{be} \\colorbox{red!15}{resolved} \\colorbox{red!2}{through} \\colorbox{red!2}{binding} \\colorbox{red!48}{arbitration} . \n"
     ]
    }
   ],
   "source": [
    "import re\n",
    "\n",
    "\n",
    "# Tokenize the text\n",
    "words = re.findall(r'\\b\\w+\\b|[^\\w\\s]', text_legal)\n",
    "\n",
    "# Get min and max scores\n",
    "scores = [value[0] for value in results.values()]\n",
    "min_score = min(scores)\n",
    "max_score = max(scores)\n",
    "\n",
    "# Function to escape LaTeX special characters\n",
    "def escape_latex(s):\n",
    "    special_chars = {\n",
    "        '\\\\': '\\\\textbackslash{}',\n",
    "        '&': '\\\\&',\n",
    "        '%': '\\\\%',\n",
    "        '$': '\\\\$',\n",
    "        '#': '\\\\#',\n",
    "        '_': '\\\\_',\n",
    "        '{': '\\\\{',\n",
    "        '}': '\\\\}',\n",
    "        '~': '\\\\textasciitilde{}',\n",
    "        '^': '\\\\textasciicircum{}',\n",
    "        \"'\": \"\\\\'\",\n",
    "        '\"': '\\\\\"',\n",
    "        '`': '\\\\`',\n",
    "    }\n",
    "    for char, escape in special_chars.items():\n",
    "        s = s.replace(char, escape)\n",
    "    return s\n",
    "\n",
    "# Generate LaTeX code\n",
    "latex_output = \"\"\n",
    "for word in words:\n",
    "    word_clean = word.strip()\n",
    "    if word_clean == '':\n",
    "        continue  # Skip empty strings\n",
    "    if word_clean in results:\n",
    "        score = results[word_clean][0]\n",
    "        # Normalize the score to 1-100%\n",
    "        if max_score - min_score == 0:\n",
    "            percentage = 100  # Avoid division by zero\n",
    "        else:\n",
    "            percentage = (score - min_score) / (max_score - min_score) * 99 + 1  # Ensure minimum 1%\n",
    "        percentage_int = int(round(percentage))\n",
    "        escaped_word = escape_latex(word)\n",
    "        latex_output += f\"\\\\colorbox{{red!{percentage_int}}}{{{escaped_word}}} \"\n",
    "    else:\n",
    "        # Leave words without values unmodified\n",
    "        escaped_word = escape_latex(word)\n",
    "        latex_output += f\"{escaped_word} \"\n",
    "\n",
    "# Print LaTeX output\n",
    "print(latex_output)\n"
   ]
  }
 ],
 "metadata": {
  "kernelspec": {
   "display_name": "latable",
   "language": "python",
   "name": "python3"
  },
  "language_info": {
   "codemirror_mode": {
    "name": "ipython",
    "version": 3
   },
   "file_extension": ".py",
   "mimetype": "text/x-python",
   "name": "python",
   "nbconvert_exporter": "python",
   "pygments_lexer": "ipython3",
   "version": "3.10.13"
  }
 },
 "nbformat": 4,
 "nbformat_minor": 2
}
